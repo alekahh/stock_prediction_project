{
 "cells": [
  {
   "cell_type": "code",
   "execution_count": 56,
   "id": "673eda39-f9dd-471e-8e05-e972cca25498",
   "metadata": {},
   "outputs": [],
   "source": [
    "import pandas as pd\n",
    "import numpy as np\n",
    "from sklearn.preprocessing import StandardScaler\n",
    "from functools import reduce\n",
    "import matplotlib.pyplot as plt\n",
    "import seaborn as sns\n",
    "\n",
    "# ================================\n",
    "# 1. Load and Format Each Dataset\n",
    "# ================================\n",
    "def load_macro_csv(filepath, col_name):\n",
    "    df = pd.read_csv(filepath)\n",
    "    df.columns = ['date', col_name]\n",
    "    df['date'] = pd.to_datetime(df['date'])\n",
    "    return df\n",
    "\n",
    "base_path = \"/Users/aliyaospanova/Desktop/stock_prediction_project/\"\n",
    "\n",
    "cpi = load_macro_csv(base_path + \"data/raw/macroeconomics/CPIAUCSL.csv\", \"cpi\")\n",
    "fed_rate = load_macro_csv(base_path + \"data/raw/macroeconomics/FEDFUNDS.csv\", \"fed_rate\")\n",
    "unemployment_rate = load_macro_csv(base_path + \"data/raw/macroeconomics/UNRATE.csv\", \"unemployment_rate\")\n",
    "# retail_sales = load_macro_csv(base_path + \"RSXFS.csv\", \"retail_sales\")  # dropped due to high correlation with cpi\n",
    "# close is also dropped due to correlation with cpi = 0.95\n",
    "industrial_output = load_macro_csv(base_path + \"INDPRO.csv\", \"industrial_output\")\n",
    "oil_price = load_macro_csv(base_path + \"DCOILWTICO.csv\", \"oil_price\")\n",
    "\n"
   ]
  },
  {
   "cell_type": "code",
   "execution_count": 57,
   "id": "24af1d24-b1c3-4c14-9627-e16be5d11837",
   "metadata": {},
   "outputs": [
    {
     "name": "stdout",
     "output_type": "stream",
     "text": [
      "        date        close  sp500_return\n",
      "1 2010-01-06  1137.140015      0.000546\n",
      "2 2010-01-07  1141.689941      0.004001\n",
      "3 2010-01-08  1144.979980      0.002882\n",
      "4 2010-01-11  1146.979980      0.001747\n",
      "5 2010-01-12  1136.219971     -0.009381\n",
      "[           date      cpi\n",
      "0    2010-01-01  217.488\n",
      "1    2010-01-02  217.488\n",
      "2    2010-01-03  217.488\n",
      "3    2010-01-04  217.488\n",
      "4    2010-01-05  217.488\n",
      "...         ...      ...\n",
      "4713 2022-11-27  298.708\n",
      "4714 2022-11-28  298.708\n",
      "4715 2022-11-29  298.708\n",
      "4716 2022-11-30  298.708\n",
      "4717 2022-12-01  298.808\n",
      "\n",
      "[4718 rows x 2 columns],            date  fed_rate\n",
      "0    2010-01-01      0.11\n",
      "1    2010-01-02      0.11\n",
      "2    2010-01-03      0.11\n",
      "3    2010-01-04      0.11\n",
      "4    2010-01-05      0.11\n",
      "...         ...       ...\n",
      "4713 2022-11-27      3.78\n",
      "4714 2022-11-28      3.78\n",
      "4715 2022-11-29      3.78\n",
      "4716 2022-11-30      3.78\n",
      "4717 2022-12-01      4.10\n",
      "\n",
      "[4718 rows x 2 columns],            date  unemployment_rate\n",
      "0    2010-01-01                9.8\n",
      "1    2010-01-02                9.8\n",
      "2    2010-01-03                9.8\n",
      "3    2010-01-04                9.8\n",
      "4    2010-01-05                9.8\n",
      "...         ...                ...\n",
      "4713 2022-11-27                3.6\n",
      "4714 2022-11-28                3.6\n",
      "4715 2022-11-29                3.6\n",
      "4716 2022-11-30                3.6\n",
      "4717 2022-12-01                3.5\n",
      "\n",
      "[4718 rows x 2 columns],            date  industrial_output\n",
      "0    2010-01-01            89.1897\n",
      "1    2010-01-02            89.1897\n",
      "2    2010-01-03            89.1897\n",
      "3    2010-01-04            89.1897\n",
      "4    2010-01-05            89.1897\n",
      "...         ...                ...\n",
      "4713 2022-11-27           103.1058\n",
      "4714 2022-11-28           103.1058\n",
      "4715 2022-11-29           103.1058\n",
      "4716 2022-11-30           103.1058\n",
      "4717 2022-12-01           101.8266\n",
      "\n",
      "[4718 rows x 2 columns],            date  oil_price\n",
      "0    2010-01-04      81.52\n",
      "1    2010-01-05      81.74\n",
      "2    2010-01-06      83.12\n",
      "3    2010-01-07      82.60\n",
      "4    2010-01-08      82.74\n",
      "...         ...        ...\n",
      "4739 2022-12-26        NaN\n",
      "4740 2022-12-27      79.45\n",
      "4741 2022-12-28      78.89\n",
      "4742 2022-12-29      78.43\n",
      "4743 2022-12-30      80.16\n",
      "\n",
      "[4744 rows x 2 columns],            date        close  sp500_return\n",
      "1    2010-01-06  1137.140015      0.000546\n",
      "2    2010-01-07  1141.689941      0.004001\n",
      "3    2010-01-08  1144.979980      0.002882\n",
      "4    2010-01-11  1146.979980      0.001747\n",
      "5    2010-01-12  1136.219971     -0.009381\n",
      "...         ...          ...           ...\n",
      "3266 2022-12-23  3844.820068      0.005868\n",
      "3267 2022-12-27  3829.250000     -0.004050\n",
      "3268 2022-12-28  3783.219971     -0.012021\n",
      "3269 2022-12-29  3849.280029      0.017461\n",
      "3270 2022-12-30  3839.500000     -0.002541\n",
      "\n",
      "[3270 rows x 3 columns]]\n"
     ]
    }
   ],
   "source": [
    "# ================================\n",
    "# 2. Load and Process GSPC Returns\n",
    "# ================================\n",
    "sp500 = pd.read_csv(base_path + \"GSPC_historical_data.csv\")\n",
    "sp500 = sp500[['Date', 'Close']].copy()\n",
    "sp500.columns = ['date', 'close']\n",
    "sp500['date'] = pd.to_datetime(sp500['date'])\n",
    "sp500 = sp500.sort_values('date')\n",
    "sp500['sp500_return'] = sp500['close'].pct_change()\n",
    "sp500 = sp500.dropna(subset=['sp500_return'])\n",
    "\n",
    "print(sp500.head())\n",
    "\n",
    "# ================================\n",
    "# 3. Forward-Fill Monthly Data to Daily\n",
    "# ================================\n",
    "def monthly_to_daily(df):\n",
    "    return df.set_index('date').resample('D').ffill().reset_index()\n",
    "\n",
    "macro_dfs = [\n",
    "    monthly_to_daily(df) for df in [cpi, fed_rate, unemployment_rate, industrial_output, oil_price]\n",
    "]\n",
    "\n",
    "# Add sp500 (already daily)\n",
    "macro_dfs.append(sp500)\n",
    "\n",
    "print(macro_dfs)\n",
    "\n",
    "# ================================\n",
    "# Align All Data to Common Daily Range\n",
    "# ================================\n",
    "min_date = max(df['date'].min() for df in macro_dfs)\n",
    "max_date = min(df['date'].max() for df in macro_dfs)\n",
    "common_dates = pd.date_range(min_date, max_date, freq='D')\n",
    "\n",
    "def align_to_common_dates(df):\n",
    "    df = df.set_index('date').reindex(common_dates).ffill().reset_index()\n",
    "    df.columns = ['date'] + list(df.columns[1:])\n",
    "    return df\n",
    "\n",
    "macro_dfs = [align_to_common_dates(df) for df in macro_dfs]\n",
    "\n"
   ]
  },
  {
   "cell_type": "code",
   "execution_count": 58,
   "id": "bc4861d8-03c9-45e5-99f6-7ecf7de8e371",
   "metadata": {},
   "outputs": [
    {
     "name": "stdout",
     "output_type": "stream",
     "text": [
      "           date      cpi  fed_rate  unemployment_rate  industrial_output  \\\n",
      "0    2010-01-06  217.488      0.11                9.8            89.1897   \n",
      "1    2010-01-07  217.488      0.11                9.8            89.1897   \n",
      "2    2010-01-08  217.488      0.11                9.8            89.1897   \n",
      "3    2010-01-09  217.488      0.11                9.8            89.1897   \n",
      "4    2010-01-10  217.488      0.11                9.8            89.1897   \n",
      "...         ...      ...       ...                ...                ...   \n",
      "4708 2022-11-27  298.708      3.78                3.6           103.1058   \n",
      "4709 2022-11-28  298.708      3.78                3.6           103.1058   \n",
      "4710 2022-11-29  298.708      3.78                3.6           103.1058   \n",
      "4711 2022-11-30  298.708      3.78                3.6           103.1058   \n",
      "4712 2022-12-01  298.808      4.10                3.5           101.8266   \n",
      "\n",
      "      oil_price        close  sp500_return  \n",
      "0         83.12  1137.140015      0.000546  \n",
      "1         82.60  1141.689941      0.004001  \n",
      "2         82.74  1144.979980      0.002882  \n",
      "3         82.74  1144.979980      0.002882  \n",
      "4         82.74  1144.979980      0.002882  \n",
      "...         ...          ...           ...  \n",
      "4708      76.45  4026.120117     -0.000283  \n",
      "4709      77.10  3963.939941     -0.015444  \n",
      "4710      77.96  3957.629883     -0.001592  \n",
      "4711      80.48  4080.110107      0.030948  \n",
      "4712      81.06  4076.570068     -0.000868  \n",
      "\n",
      "[4713 rows x 8 columns]\n"
     ]
    }
   ],
   "source": [
    "# ================================\n",
    "# 4. Merge All on Date\n",
    "# ================================\n",
    "macro_df = reduce(lambda left, right: pd.merge(left, right, on='date', how='outer'), macro_dfs)\n",
    "macro_df = macro_df.sort_values('date').ffill().dropna().reset_index(drop=True)\n",
    "\n",
    "print(macro_df)"
   ]
  },
  {
   "cell_type": "code",
   "execution_count": 59,
   "id": "675e49e0-25f8-423b-969f-52d083264d3c",
   "metadata": {},
   "outputs": [
    {
     "name": "stdout",
     "output_type": "stream",
     "text": [
      "           date      cpi  fed_rate  unemployment_rate  industrial_output  \\\n",
      "0    2010-01-06  217.488      0.11                9.8            89.1897   \n",
      "1    2010-01-07  217.488      0.11                9.8            89.1897   \n",
      "2    2010-01-08  217.488      0.11                9.8            89.1897   \n",
      "3    2010-01-09  217.488      0.11                9.8            89.1897   \n",
      "4    2010-01-10  217.488      0.11                9.8            89.1897   \n",
      "...         ...      ...       ...                ...                ...   \n",
      "4708 2022-11-27  298.708      3.78                3.6           103.1058   \n",
      "4709 2022-11-28  298.708      3.78                3.6           103.1058   \n",
      "4710 2022-11-29  298.708      3.78                3.6           103.1058   \n",
      "4711 2022-11-30  298.708      3.78                3.6           103.1058   \n",
      "4712 2022-12-01  298.808      4.10                3.5           101.8266   \n",
      "\n",
      "      oil_price        close  sp500_return  \n",
      "0         83.12  1137.140015      0.000546  \n",
      "1         82.60  1141.689941      0.004001  \n",
      "2         82.74  1144.979980      0.002882  \n",
      "3         82.74  1144.979980      0.002882  \n",
      "4         82.74  1144.979980      0.002882  \n",
      "...         ...          ...           ...  \n",
      "4708      76.45  4026.120117     -0.000283  \n",
      "4709      77.10  3963.939941     -0.015444  \n",
      "4710      77.96  3957.629883     -0.001592  \n",
      "4711      80.48  4080.110107      0.030948  \n",
      "4712      81.06  4076.570068     -0.000868  \n",
      "\n",
      "[4713 rows x 8 columns]\n"
     ]
    }
   ],
   "source": [
    "# ================================\n",
    "# 5. Handle Missing Values Before Normalization\n",
    "# ================================\n",
    "macro_df = macro_df.dropna(subset=['cpi', 'fed_rate', 'unemployment_rate', 'industrial_output', 'oil_price', 'sp500_return', 'close'])\n",
    "macro_df.to_csv('/Users/aliyaospanova/Desktop/FYP_images/macroeconomics/macro_data_cleaned.csv', index=False)\n",
    "print(macro_df)"
   ]
  },
  {
   "cell_type": "code",
   "execution_count": 60,
   "id": "68433554-e36e-451a-8166-a25758b901c0",
   "metadata": {},
   "outputs": [
    {
     "name": "stdout",
     "output_type": "stream",
     "text": [
      "           date       cpi  fed_rate  unemployment_rate  industrial_output  \\\n",
      "0    2010-01-06 -1.446773 -0.621990           1.645202          -2.602096   \n",
      "1    2010-01-07 -1.446773 -0.621990           1.645202          -2.602096   \n",
      "2    2010-01-08 -1.446773 -0.621990           1.645202          -2.602096   \n",
      "3    2010-01-09 -1.446773 -0.621990           1.645202          -2.602096   \n",
      "4    2010-01-10 -1.446773 -0.621990           1.645202          -2.602096   \n",
      "...         ...       ...       ...                ...                ...   \n",
      "4708 2022-11-27  2.768773  3.894866          -1.121094           1.078665   \n",
      "4709 2022-11-28  2.768773  3.894866          -1.121094           1.078665   \n",
      "4710 2022-11-29  2.768773  3.894866          -1.121094           1.078665   \n",
      "4711 2022-11-30  2.768773  3.894866          -1.121094           1.078665   \n",
      "4712 2022-12-01  2.773963  4.288707          -1.165711           0.740321   \n",
      "\n",
      "      oil_price     close  sp500_return  \n",
      "0      0.519245 -1.275488      0.008432  \n",
      "1      0.496537 -1.270865      0.322114  \n",
      "2      0.502650 -1.267522      0.220496  \n",
      "3      0.502650 -1.267522      0.220496  \n",
      "4      0.502650 -1.267522      0.220496  \n",
      "...         ...       ...           ...  \n",
      "4708   0.227969  1.660091     -0.066780  \n",
      "4709   0.256355  1.596908     -1.443001  \n",
      "4710   0.293910  1.590496     -0.185585  \n",
      "4711   0.403957  1.714952      2.768140  \n",
      "4712   0.429286  1.711354     -0.119844  \n",
      "\n",
      "[4713 rows x 8 columns]\n"
     ]
    }
   ],
   "source": [
    "features = ['cpi', 'fed_rate', 'unemployment_rate', 'industrial_output', 'oil_price', 'sp500_return', 'close']\n",
    "scaler = StandardScaler()\n",
    "macro_df[features] = scaler.fit_transform(macro_df[features])\n",
    "print(macro_df)"
   ]
  },
  {
   "cell_type": "code",
   "execution_count": 61,
   "id": "4dbe0cf9-d04a-45ed-bd9f-1b1cc4c6560b",
   "metadata": {},
   "outputs": [
    {
     "name": "stdout",
     "output_type": "stream",
     "text": [
      "Saved normalized macro features to macro_features_aligned.csv\n"
     ]
    }
   ],
   "source": [
    "# ================================\n",
    "# 7. Save Processed Data\n",
    "# ================================\n",
    "macro_df.to_csv(\"macro_features_aligned.csv\", index=False)\n",
    "print(\"Saved normalized macro features to macro_features_aligned.csv\")"
   ]
  },
  {
   "cell_type": "code",
   "execution_count": 62,
   "id": "95b890bd-60bb-4b47-a89d-ef57f8148c7d",
   "metadata": {},
   "outputs": [
    {
     "data": {
      "image/png": "[encoded data removed]",
      "text/plain": [
       "<Figure size 1000x800 with 2 Axes>"
      ]
     },
     "metadata": {},
     "output_type": "display_data"
    }
   ],
   "source": [
    "# ================================\n",
    "# 8. Visualize Correlation Heatmap\n",
    "# ================================\n",
    "plt.figure(figsize=(10, 8))\n",
    "sns.heatmap(macro_df[features].corr(), annot=True, fmt=\".2f\", cmap=\"coolwarm\", center=0)\n",
    "plt.title(\"Correlation Heatmap of Normalized Macroeconomic Features\")\n",
    "plt.tight_layout()\n",
    "plt.savefig(\"macro_feature_correlation_heatmap.png\")\n",
    "plt.show()"
   ]
  },
  {
   "cell_type": "code",
   "execution_count": 63,
   "id": "977b3ba3-4b07-45af-a48b-3b64be5e335c",
   "metadata": {},
   "outputs": [
    {
     "name": "stdout",
     "output_type": "stream",
     "text": [
      "Top correlated feature pairs saved to top_correlated_feature_pairs.csv\n"
     ]
    },
    {
     "data": {
      "text/plain": [
       "'\\nFeature 1\\tFeature 2\\tCorrelation\\ncpi\\tretail_sales\\t0.9842358418480940\\nunemployment_rate\\tindustrial_output\\t0.8811151146734950\\nfed_rate\\tunemployment_rate\\t0.6168739438031150\\nunemployment_rate\\tretail_sales\\t0.5945983133613900\\ncpi\\tunemployment_rate\\t0.5942154359701660\\n'"
      ]
     },
     "execution_count": 63,
     "metadata": {},
     "output_type": "execute_result"
    }
   ],
   "source": [
    "# ================================\n",
    "# 9. Extract Top 5 Correlated Feature Pairs\n",
    "# ================================\n",
    "corr_matrix = macro_df[features].corr().abs()\n",
    "mask = np.triu(np.ones(corr_matrix.shape), k=1).astype(bool)\n",
    "corr_pairs = corr_matrix.where(mask).stack().reset_index()\n",
    "corr_pairs.columns = ['Feature 1', 'Feature 2', 'Correlation']\n",
    "top_corr = corr_pairs.sort_values(by='Correlation', ascending=False).head(5)\n",
    "top_corr.to_csv(\"top_correlated_feature_pairs.csv\", index=False)\n",
    "print(\"Top correlated feature pairs saved to top_correlated_feature_pairs.csv\")\n",
    "\n",
    "\"\"\"\n",
    "Feature 1\tFeature 2\tCorrelation\n",
    "cpi\tretail_sales\t0.9842358418480940\n",
    "unemployment_rate\tindustrial_output\t0.8811151146734950\n",
    "fed_rate\tunemployment_rate\t0.6168739438031150\n",
    "unemployment_rate\tretail_sales\t0.5945983133613900\n",
    "cpi\tunemployment_rate\t0.5942154359701660\n",
    "\"\"\""
   ]
  },
  {
   "cell_type": "code",
   "execution_count": 64,
   "id": "cc1891ab-4bea-467c-aa31-b34d037da21e",
   "metadata": {},
   "outputs": [
    {
     "name": "stdout",
     "output_type": "stream",
     "text": [
      "Redundant features to consider removing: {'close'}\n"
     ]
    }
   ],
   "source": [
    "# ================================\n",
    "# 10. Optional Redundant Feature Filtering (Threshold > 0.95)\n",
    "# ================================\n",
    "high_corr_pairs = corr_pairs[corr_pairs['Correlation'] > 0.95]\n",
    "redundant_features = set(high_corr_pairs['Feature 2'])\n",
    "print(\"Redundant features to consider removing:\", redundant_features)"
   ]
  },
  {
   "cell_type": "code",
   "execution_count": null,
   "id": "30c3fe30-ee06-4d54-ba85-4d43835d0807",
   "metadata": {},
   "outputs": [],
   "source": []
  }
 ],
 "metadata": {
  "kernelspec": {
   "display_name": "Python 3 (ipykernel)",
   "language": "python",
   "name": "python3"
  },
  "language_info": {
   "codemirror_mode": {
    "name": "ipython",
    "version": 3
   },
   "file_extension": ".py",
   "mimetype": "text/x-python",
   "name": "python",
   "nbconvert_exporter": "python",
   "pygments_lexer": "ipython3",
   "version": "3.11.8"
  }
 },
 "nbformat": 4,
 "nbformat_minor": 5
}
