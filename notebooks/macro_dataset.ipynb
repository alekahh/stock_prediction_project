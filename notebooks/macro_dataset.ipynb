{
 "cells": [
  {
   "cell_type": "code",
   "execution_count": 24,
   "id": "673eda39-f9dd-471e-8e05-e972cca25498",
   "metadata": {},
   "outputs": [],
   "source": [
    "import pandas as pd\n",
    "import numpy as np\n",
    "from sklearn.preprocessing import StandardScaler\n",
    "from functools import reduce\n",
    "import matplotlib.pyplot as plt\n",
    "import seaborn as sns\n",
    "from pathlib import Path\n",
    "\n",
    "# ================================\n",
    "# 1. Load and Format Each Dataset\n",
    "# ================================\n",
    "def load_macro_csv(filepath, col_name):\n",
    "    df = pd.read_csv(filepath)\n",
    "    df.columns = ['date', col_name]\n",
    "    df['date'] = pd.to_datetime(df['date'])\n",
    "    return df\n",
    "\n",
    "# Change base path according to your environment\n",
    "\n",
    "base_path = Path(\"/Users/aliyaospanova/Desktop/stock_prediction_project\")\n",
    "raw_data_dir = base_path / \"data\" / \"raw\"\n",
    "processed_data_dir = base_path / \"data\" / \"processed\"\n",
    "macro_data_dir = base_path / \"data\" / \"raw\" / \"macroeconomics\"\n",
    "results_dir = base_path / \"results\"\n",
    "plots_dir = results_dir / \"plots\"\n",
    "\n",
    "cpi = load_macro_csv(macro_data_dir / \"CPIAUCSL.csv\", \"cpi\")\n",
    "fed_rate = load_macro_csv(macro_data_dir / \"FEDFUNDS.csv\", \"fed_rate\")\n",
    "unemployment_rate = load_macro_csv(macro_data_dir / \"UNRATE.csv\", \"unemployment_rate\")\n",
    "# retail_sales = load_macro_csv(macro_data_dir / \"RSXFS.csv\", \"retail_sales\")  # dropped due to high correlation with cpi\n",
    "# # close is also dropped due to correlation with cpi = 0.95\n",
    "industrial_output = load_macro_csv(macro_data_dir / \"INDPRO.csv\", \"industrial_output\")\n",
    "oil_price = load_macro_csv(macro_data_dir / \"DCOILWTICO.csv\", \"oil_price\")\n",
    "\n"
   ]
  },
  {
   "cell_type": "code",
   "execution_count": 25,
   "id": "24af1d24-b1c3-4c14-9627-e16be5d11837",
   "metadata": {},
   "outputs": [
    {
     "name": "stdout",
     "output_type": "stream",
     "text": [
      "        date        close  sp500_return\n",
      "1 2010-01-06  1137.140015      0.000546\n",
      "2 2010-01-07  1141.689941      0.004001\n",
      "3 2010-01-08  1144.979980      0.002882\n",
      "4 2010-01-11  1146.979980      0.001747\n",
      "5 2010-01-12  1136.219971     -0.009381\n",
      "[           date      cpi\n",
      "0    2010-01-01  217.488\n",
      "1    2010-01-02  217.488\n",
      "2    2010-01-03  217.488\n",
      "3    2010-01-04  217.488\n",
      "4    2010-01-05  217.488\n",
      "...         ...      ...\n",
      "4713 2022-11-27  298.708\n",
      "4714 2022-11-28  298.708\n",
      "4715 2022-11-29  298.708\n",
      "4716 2022-11-30  298.708\n",
      "4717 2022-12-01  298.808\n",
      "\n",
      "[4718 rows x 2 columns],            date  fed_rate\n",
      "0    2010-01-01      0.11\n",
      "1    2010-01-02      0.11\n",
      "2    2010-01-03      0.11\n",
      "3    2010-01-04      0.11\n",
      "4    2010-01-05      0.11\n",
      "...         ...       ...\n",
      "4713 2022-11-27      3.78\n",
      "4714 2022-11-28      3.78\n",
      "4715 2022-11-29      3.78\n",
      "4716 2022-11-30      3.78\n",
      "4717 2022-12-01      4.10\n",
      "\n",
      "[4718 rows x 2 columns],            date  unemployment_rate\n",
      "0    2010-01-01                9.8\n",
      "1    2010-01-02                9.8\n",
      "2    2010-01-03                9.8\n",
      "3    2010-01-04                9.8\n",
      "4    2010-01-05                9.8\n",
      "...         ...                ...\n",
      "4713 2022-11-27                3.6\n",
      "4714 2022-11-28                3.6\n",
      "4715 2022-11-29                3.6\n",
      "4716 2022-11-30                3.6\n",
      "4717 2022-12-01                3.5\n",
      "\n",
      "[4718 rows x 2 columns],            date  industrial_output\n",
      "0    2010-01-01            89.1897\n",
      "1    2010-01-02            89.1897\n",
      "2    2010-01-03            89.1897\n",
      "3    2010-01-04            89.1897\n",
      "4    2010-01-05            89.1897\n",
      "...         ...                ...\n",
      "4713 2022-11-27           103.1058\n",
      "4714 2022-11-28           103.1058\n",
      "4715 2022-11-29           103.1058\n",
      "4716 2022-11-30           103.1058\n",
      "4717 2022-12-01           101.8266\n",
      "\n",
      "[4718 rows x 2 columns],            date  oil_price\n",
      "0    2010-01-04      81.52\n",
      "1    2010-01-05      81.74\n",
      "2    2010-01-06      83.12\n",
      "3    2010-01-07      82.60\n",
      "4    2010-01-08      82.74\n",
      "...         ...        ...\n",
      "4739 2022-12-26        NaN\n",
      "4740 2022-12-27      79.45\n",
      "4741 2022-12-28      78.89\n",
      "4742 2022-12-29      78.43\n",
      "4743 2022-12-30      80.16\n",
      "\n",
      "[4744 rows x 2 columns],            date        close  sp500_return\n",
      "1    2010-01-06  1137.140015      0.000546\n",
      "2    2010-01-07  1141.689941      0.004001\n",
      "3    2010-01-08  1144.979980      0.002882\n",
      "4    2010-01-11  1146.979980      0.001747\n",
      "5    2010-01-12  1136.219971     -0.009381\n",
      "...         ...          ...           ...\n",
      "3266 2022-12-23  3844.820068      0.005868\n",
      "3267 2022-12-27  3829.250000     -0.004050\n",
      "3268 2022-12-28  3783.219971     -0.012021\n",
      "3269 2022-12-29  3849.280029      0.017461\n",
      "3270 2022-12-30  3839.500000     -0.002541\n",
      "\n",
      "[3270 rows x 3 columns]]\n"
     ]
    }
   ],
   "source": [
    "# ================================\n",
    "# 2. Load and Process GSPC Returns\n",
    "# ================================\n",
    "sp500 = pd.read_csv(macro_data_dir / \"GSPC_historical_data.csv\")\n",
    "sp500 = sp500[['Date', 'Close']].copy()\n",
    "sp500.columns = ['date', 'close']\n",
    "sp500['date'] = pd.to_datetime(sp500['date'])\n",
    "sp500 = sp500.sort_values('date')\n",
    "sp500['sp500_return'] = sp500['close'].pct_change()\n",
    "sp500 = sp500.dropna(subset=['sp500_return'])\n",
    "\n",
    "print(sp500.head())\n",
    "\n",
    "# ================================\n",
    "# 3. Forward-Fill Monthly Data to Daily\n",
    "# ================================\n",
    "def monthly_to_daily(df):\n",
    "    return df.set_index('date').resample('D').ffill().reset_index()\n",
    "\n",
    "macro_dfs = [\n",
    "    monthly_to_daily(df) for df in [cpi, fed_rate, unemployment_rate, industrial_output, oil_price]\n",
    "]\n",
    "\n",
    "# Add sp500 (already daily)\n",
    "macro_dfs.append(sp500)\n",
    "\n",
    "print(macro_dfs)\n",
    "\n",
    "# ================================\n",
    "# Align All Data to Common Daily Range\n",
    "# ================================\n",
    "min_date = max(df['date'].min() for df in macro_dfs)\n",
    "max_date = min(df['date'].max() for df in macro_dfs)\n",
    "common_dates = pd.date_range(min_date, max_date, freq='D')\n",
    "\n",
    "def align_to_common_dates(df):\n",
    "    df = df.set_index('date').reindex(common_dates).ffill().reset_index()\n",
    "    df.columns = ['date'] + list(df.columns[1:])\n",
    "    return df\n",
    "\n",
    "macro_dfs = [align_to_common_dates(df) for df in macro_dfs]"
   ]
  },
  {
   "cell_type": "code",
   "execution_count": 26,
   "id": "bc4861d8-03c9-45e5-99f6-7ecf7de8e371",
   "metadata": {},
   "outputs": [
    {
     "name": "stdout",
     "output_type": "stream",
     "text": [
      "           date      cpi  fed_rate  unemployment_rate  industrial_output  \\\n",
      "0    2010-01-06  217.488      0.11                9.8            89.1897   \n",
      "1    2010-01-07  217.488      0.11                9.8            89.1897   \n",
      "2    2010-01-08  217.488      0.11                9.8            89.1897   \n",
      "3    2010-01-09  217.488      0.11                9.8            89.1897   \n",
      "4    2010-01-10  217.488      0.11                9.8            89.1897   \n",
      "...         ...      ...       ...                ...                ...   \n",
      "4708 2022-11-27  298.708      3.78                3.6           103.1058   \n",
      "4709 2022-11-28  298.708      3.78                3.6           103.1058   \n",
      "4710 2022-11-29  298.708      3.78                3.6           103.1058   \n",
      "4711 2022-11-30  298.708      3.78                3.6           103.1058   \n",
      "4712 2022-12-01  298.808      4.10                3.5           101.8266   \n",
      "\n",
      "      oil_price        close  sp500_return  \n",
      "0         83.12  1137.140015      0.000546  \n",
      "1         82.60  1141.689941      0.004001  \n",
      "2         82.74  1144.979980      0.002882  \n",
      "3         82.74  1144.979980      0.002882  \n",
      "4         82.74  1144.979980      0.002882  \n",
      "...         ...          ...           ...  \n",
      "4708      76.45  4026.120117     -0.000283  \n",
      "4709      77.10  3963.939941     -0.015444  \n",
      "4710      77.96  3957.629883     -0.001592  \n",
      "4711      80.48  4080.110107      0.030948  \n",
      "4712      81.06  4076.570068     -0.000868  \n",
      "\n",
      "[4713 rows x 8 columns]\n"
     ]
    }
   ],
   "source": [
    "# ================================\n",
    "# 4. Merge All on Date\n",
    "# ================================\n",
    "macro_df = reduce(lambda left, right: pd.merge(left, right, on='date', how='outer'), macro_dfs)\n",
    "macro_df = macro_df.sort_values('date').ffill().dropna().reset_index(drop=True)\n",
    "\n",
    "print(macro_df)"
   ]
  },
  {
   "cell_type": "code",
   "execution_count": 27,
   "id": "675e49e0-25f8-423b-969f-52d083264d3c",
   "metadata": {},
   "outputs": [
    {
     "name": "stdout",
     "output_type": "stream",
     "text": [
      "           date      cpi  fed_rate  unemployment_rate  industrial_output  \\\n",
      "0    2010-01-06  217.488      0.11                9.8            89.1897   \n",
      "1    2010-01-07  217.488      0.11                9.8            89.1897   \n",
      "2    2010-01-08  217.488      0.11                9.8            89.1897   \n",
      "3    2010-01-09  217.488      0.11                9.8            89.1897   \n",
      "4    2010-01-10  217.488      0.11                9.8            89.1897   \n",
      "...         ...      ...       ...                ...                ...   \n",
      "4708 2022-11-27  298.708      3.78                3.6           103.1058   \n",
      "4709 2022-11-28  298.708      3.78                3.6           103.1058   \n",
      "4710 2022-11-29  298.708      3.78                3.6           103.1058   \n",
      "4711 2022-11-30  298.708      3.78                3.6           103.1058   \n",
      "4712 2022-12-01  298.808      4.10                3.5           101.8266   \n",
      "\n",
      "      oil_price        close  sp500_return  \n",
      "0         83.12  1137.140015      0.000546  \n",
      "1         82.60  1141.689941      0.004001  \n",
      "2         82.74  1144.979980      0.002882  \n",
      "3         82.74  1144.979980      0.002882  \n",
      "4         82.74  1144.979980      0.002882  \n",
      "...         ...          ...           ...  \n",
      "4708      76.45  4026.120117     -0.000283  \n",
      "4709      77.10  3963.939941     -0.015444  \n",
      "4710      77.96  3957.629883     -0.001592  \n",
      "4711      80.48  4080.110107      0.030948  \n",
      "4712      81.06  4076.570068     -0.000868  \n",
      "\n",
      "[4713 rows x 8 columns]\n"
     ]
    }
   ],
   "source": [
    "# ================================\n",
    "# 5. Handle Missing Values Before Normalization\n",
    "# ================================\n",
    "macro_df = macro_df.dropna(subset=['cpi', 'fed_rate', 'unemployment_rate', 'industrial_output', 'oil_price', 'sp500_return', 'close'])\n",
    "macro_df.to_csv( processed_data_dir / \"macro_data_cleaned.csv\" , index=False)\n",
    "print(macro_df)"
   ]
  },
  {
   "cell_type": "code",
   "execution_count": 28,
   "id": "95b890bd-60bb-4b47-a89d-ef57f8148c7d",
   "metadata": {},
   "outputs": [
    {
     "ename": "KeyError",
     "evalue": "\"['retail_sales'] not in index\"",
     "output_type": "error",
     "traceback": [
      "\u001b[0;31m---------------------------------------------------------------------------\u001b[0m",
      "\u001b[0;31mKeyError\u001b[0m                                  Traceback (most recent call last)",
      "Cell \u001b[0;32mIn[28], line 5\u001b[0m\n\u001b[1;32m      1\u001b[0m \u001b[38;5;66;03m# ================================\u001b[39;00m\n\u001b[1;32m      2\u001b[0m \u001b[38;5;66;03m# 8. Visualize Correlation Heatmap\u001b[39;00m\n\u001b[1;32m      3\u001b[0m \u001b[38;5;66;03m# ================================\u001b[39;00m\n\u001b[1;32m      4\u001b[0m plt\u001b[38;5;241m.\u001b[39mfigure(figsize\u001b[38;5;241m=\u001b[39m(\u001b[38;5;241m10\u001b[39m, \u001b[38;5;241m8\u001b[39m))\n\u001b[0;32m----> 5\u001b[0m sns\u001b[38;5;241m.\u001b[39mheatmap(macro_df[features]\u001b[38;5;241m.\u001b[39mcorr(), annot\u001b[38;5;241m=\u001b[39m\u001b[38;5;28;01mTrue\u001b[39;00m, fmt\u001b[38;5;241m=\u001b[39m\u001b[38;5;124m\"\u001b[39m\u001b[38;5;124m.2f\u001b[39m\u001b[38;5;124m\"\u001b[39m, cmap\u001b[38;5;241m=\u001b[39m\u001b[38;5;124m\"\u001b[39m\u001b[38;5;124mcoolwarm\u001b[39m\u001b[38;5;124m\"\u001b[39m, center\u001b[38;5;241m=\u001b[39m\u001b[38;5;241m0\u001b[39m)\n\u001b[1;32m      6\u001b[0m plt\u001b[38;5;241m.\u001b[39mtitle(\u001b[38;5;124m\"\u001b[39m\u001b[38;5;124mCorrelation Heatmap of Normalized Macroeconomic Features\u001b[39m\u001b[38;5;124m\"\u001b[39m)\n\u001b[1;32m      7\u001b[0m plt\u001b[38;5;241m.\u001b[39mtight_layout()\n",
      "File \u001b[0;32m/opt/anaconda3/lib/python3.11/site-packages/pandas/core/frame.py:4108\u001b[0m, in \u001b[0;36mDataFrame.__getitem__\u001b[0;34m(self, key)\u001b[0m\n\u001b[1;32m   4106\u001b[0m     \u001b[38;5;28;01mif\u001b[39;00m is_iterator(key):\n\u001b[1;32m   4107\u001b[0m         key \u001b[38;5;241m=\u001b[39m \u001b[38;5;28mlist\u001b[39m(key)\n\u001b[0;32m-> 4108\u001b[0m     indexer \u001b[38;5;241m=\u001b[39m \u001b[38;5;28mself\u001b[39m\u001b[38;5;241m.\u001b[39mcolumns\u001b[38;5;241m.\u001b[39m_get_indexer_strict(key, \u001b[38;5;124m\"\u001b[39m\u001b[38;5;124mcolumns\u001b[39m\u001b[38;5;124m\"\u001b[39m)[\u001b[38;5;241m1\u001b[39m]\n\u001b[1;32m   4110\u001b[0m \u001b[38;5;66;03m# take() does not accept boolean indexers\u001b[39;00m\n\u001b[1;32m   4111\u001b[0m \u001b[38;5;28;01mif\u001b[39;00m \u001b[38;5;28mgetattr\u001b[39m(indexer, \u001b[38;5;124m\"\u001b[39m\u001b[38;5;124mdtype\u001b[39m\u001b[38;5;124m\"\u001b[39m, \u001b[38;5;28;01mNone\u001b[39;00m) \u001b[38;5;241m==\u001b[39m \u001b[38;5;28mbool\u001b[39m:\n",
      "File \u001b[0;32m/opt/anaconda3/lib/python3.11/site-packages/pandas/core/indexes/base.py:6200\u001b[0m, in \u001b[0;36mIndex._get_indexer_strict\u001b[0;34m(self, key, axis_name)\u001b[0m\n\u001b[1;32m   6197\u001b[0m \u001b[38;5;28;01melse\u001b[39;00m:\n\u001b[1;32m   6198\u001b[0m     keyarr, indexer, new_indexer \u001b[38;5;241m=\u001b[39m \u001b[38;5;28mself\u001b[39m\u001b[38;5;241m.\u001b[39m_reindex_non_unique(keyarr)\n\u001b[0;32m-> 6200\u001b[0m \u001b[38;5;28mself\u001b[39m\u001b[38;5;241m.\u001b[39m_raise_if_missing(keyarr, indexer, axis_name)\n\u001b[1;32m   6202\u001b[0m keyarr \u001b[38;5;241m=\u001b[39m \u001b[38;5;28mself\u001b[39m\u001b[38;5;241m.\u001b[39mtake(indexer)\n\u001b[1;32m   6203\u001b[0m \u001b[38;5;28;01mif\u001b[39;00m \u001b[38;5;28misinstance\u001b[39m(key, Index):\n\u001b[1;32m   6204\u001b[0m     \u001b[38;5;66;03m# GH 42790 - Preserve name from an Index\u001b[39;00m\n",
      "File \u001b[0;32m/opt/anaconda3/lib/python3.11/site-packages/pandas/core/indexes/base.py:6252\u001b[0m, in \u001b[0;36mIndex._raise_if_missing\u001b[0;34m(self, key, indexer, axis_name)\u001b[0m\n\u001b[1;32m   6249\u001b[0m     \u001b[38;5;28;01mraise\u001b[39;00m \u001b[38;5;167;01mKeyError\u001b[39;00m(\u001b[38;5;124mf\u001b[39m\u001b[38;5;124m\"\u001b[39m\u001b[38;5;124mNone of [\u001b[39m\u001b[38;5;132;01m{\u001b[39;00mkey\u001b[38;5;132;01m}\u001b[39;00m\u001b[38;5;124m] are in the [\u001b[39m\u001b[38;5;132;01m{\u001b[39;00maxis_name\u001b[38;5;132;01m}\u001b[39;00m\u001b[38;5;124m]\u001b[39m\u001b[38;5;124m\"\u001b[39m)\n\u001b[1;32m   6251\u001b[0m not_found \u001b[38;5;241m=\u001b[39m \u001b[38;5;28mlist\u001b[39m(ensure_index(key)[missing_mask\u001b[38;5;241m.\u001b[39mnonzero()[\u001b[38;5;241m0\u001b[39m]]\u001b[38;5;241m.\u001b[39munique())\n\u001b[0;32m-> 6252\u001b[0m \u001b[38;5;28;01mraise\u001b[39;00m \u001b[38;5;167;01mKeyError\u001b[39;00m(\u001b[38;5;124mf\u001b[39m\u001b[38;5;124m\"\u001b[39m\u001b[38;5;132;01m{\u001b[39;00mnot_found\u001b[38;5;132;01m}\u001b[39;00m\u001b[38;5;124m not in index\u001b[39m\u001b[38;5;124m\"\u001b[39m)\n",
      "\u001b[0;31mKeyError\u001b[0m: \"['retail_sales'] not in index\""
     ]
    },
    {
     "data": {
      "text/plain": [
       "<Figure size 1000x800 with 0 Axes>"
      ]
     },
     "metadata": {},
     "output_type": "display_data"
    }
   ],
   "source": [
    "# ================================\n",
    "# 8. Visualize Correlation Heatmap\n",
    "# ================================\n",
    "plt.figure(figsize=(10, 8))\n",
    "sns.heatmap(macro_df[features].corr(), annot=True, fmt=\".2f\", cmap=\"coolwarm\", center=0)\n",
    "plt.title(\"Correlation Heatmap of Normalized Macroeconomic Features\")\n",
    "plt.tight_layout()\n",
    "plt.savefig(plots_dir/ \"macro_feature_correlation_heatmap.png\")\n",
    "plt.show()"
   ]
  },
  {
   "cell_type": "code",
   "execution_count": 21,
   "id": "977b3ba3-4b07-45af-a48b-3b64be5e335c",
   "metadata": {},
   "outputs": [
    {
     "name": "stdout",
     "output_type": "stream",
     "text": [
      "Top correlated feature pairs saved to top_correlated_feature_pairs.csv\n"
     ]
    },
    {
     "data": {
      "text/plain": [
       "'\\nFeature 1\\tFeature 2\\tCorrelation\\ncpi\\tretail_sales\\t0.9842358418480940\\nunemployment_rate\\tindustrial_output\\t0.8811151146734950\\nfed_rate\\tunemployment_rate\\t0.6168739438031150\\nunemployment_rate\\tretail_sales\\t0.5945983133613900\\ncpi\\tunemployment_rate\\t0.5942154359701660\\n'"
      ]
     },
     "execution_count": 21,
     "metadata": {},
     "output_type": "execute_result"
    }
   ],
   "source": [
    "# ================================\n",
    "# 9. Extract Top 5 Correlated Feature Pairs\n",
    "# ================================\n",
    "corr_matrix = macro_df[features].corr().abs()\n",
    "mask = np.triu(np.ones(corr_matrix.shape), k=1).astype(bool)\n",
    "corr_pairs = corr_matrix.where(mask).stack().reset_index()\n",
    "corr_pairs.columns = ['Feature 1', 'Feature 2', 'Correlation']\n",
    "top_corr = corr_pairs.sort_values(by='Correlation', ascending=False).head(5)\n",
    "top_corr.to_csv(processed_data_dir / \"top_correlated_feature_pairs.csv\", index=False)\n",
    "print(\"Top correlated feature pairs saved to top_correlated_feature_pairs.csv\")\n",
    "\n",
    "\"\"\"\n",
    "Feature 1\tFeature 2\tCorrelation\n",
    "cpi\tretail_sales\t0.9842358418480940\n",
    "unemployment_rate\tindustrial_output\t0.8811151146734950\n",
    "fed_rate\tunemployment_rate\t0.6168739438031150\n",
    "unemployment_rate\tretail_sales\t0.5945983133613900\n",
    "cpi\tunemployment_rate\t0.5942154359701660\n",
    "\"\"\""
   ]
  },
  {
   "cell_type": "code",
   "execution_count": 22,
   "id": "cc1891ab-4bea-467c-aa31-b34d037da21e",
   "metadata": {},
   "outputs": [
    {
     "name": "stdout",
     "output_type": "stream",
     "text": [
      "Redundant features to consider removing: {'close', 'retail_sales'}\n"
     ]
    }
   ],
   "source": [
    "# ================================\n",
    "# 10. Optional Redundant Feature Filtering (Threshold > 0.95)\n",
    "# ================================\n",
    "high_corr_pairs = corr_pairs[corr_pairs['Correlation'] > 0.95]\n",
    "redundant_features = set(high_corr_pairs['Feature 2'])\n",
    "print(\"Redundant features to consider removing:\", redundant_features)"
   ]
  },
  {
   "cell_type": "code",
   "execution_count": null,
   "id": "30c3fe30-ee06-4d54-ba85-4d43835d0807",
   "metadata": {},
   "outputs": [],
   "source": []
  }
 ],
 "metadata": {
  "kernelspec": {
   "display_name": "Python 3 (ipykernel)",
   "language": "python",
   "name": "python3"
  },
  "language_info": {
   "codemirror_mode": {
    "name": "ipython",
    "version": 3
   },
   "file_extension": ".py",
   "mimetype": "text/x-python",
   "name": "python",
   "nbconvert_exporter": "python",
   "pygments_lexer": "ipython3",
   "version": "3.11.8"
  }
 },
 "nbformat": 4,
 "nbformat_minor": 5
}
